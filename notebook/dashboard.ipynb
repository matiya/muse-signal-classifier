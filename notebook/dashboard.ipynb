{
 "cells": [
  {
   "cell_type": "code",
   "execution_count": 1,
   "metadata": {
    "ExecuteTime": {
     "end_time": "2017-12-22T22:26:39.893110Z",
     "start_time": "2017-12-22T22:26:38.899733Z"
    },
    "collapsed": true
   },
   "outputs": [],
   "source": [
    "from pylsl import StreamInlet, resolve_byprop\n",
    "import seaborn as sns\n",
    "import numpy as np\n",
    "from threading import Thread\n",
    "from time import sleep\n",
    "from scipy.signal import butter, lfilter, lfilter_zi, firwin\n",
    "import matplotlib.pyplot as plt\n",
    "sns.set(style=\"whitegrid\")\n",
    "\n",
    "import plotly\n",
    "import plotly.plotly as py\n",
    "import plotly.tools as tls\n",
    "import plotly.graph_objs as go\n",
    "\n",
    "\n",
    "# (*) Import module keep track and format current time\n",
    "import datetime\n",
    "import time"
   ]
  },
  {
   "cell_type": "code",
   "execution_count": 2,
   "metadata": {
    "ExecuteTime": {
     "end_time": "2017-12-22T22:26:40.530887Z",
     "start_time": "2017-12-22T22:26:40.433026Z"
    },
    "code_folding": [
     0
    ],
    "collapsed": true,
    "run_control": {
     "marked": true
    }
   },
   "outputs": [],
   "source": [
    "# funciones que calcula caracteristicas\n",
    "\n",
    "from scipy.signal import hanning, welch\n",
    "import scipy as sp\n",
    "\n",
    "# funcion que devuelve la potencia espectral normalizada en 4 bandas de \n",
    "# frecuencia para cada canal\n",
    "def relative_log_power(data, window=256, fs=256, overlap=0.25,\n",
    "                       frequencies = [[0.1, 4], [4, 8], [8, 15], [15, 30]]):\n",
    "    noverlap = int(window * overlap)\n",
    "    freqs, power = welch(data, fs=fs, nperseg=window, noverlap=noverlap)\n",
    "\n",
    "    out = []\n",
    "    if frequencies is None:\n",
    "        out = power\n",
    "    else:\n",
    "        for fr in frequencies:\n",
    "            tmp = (freqs >= fr[0]) & (freqs < fr[1])\n",
    "            a = tmp\n",
    "            b = power\n",
    "            out.append((power[tmp].mean()))\n",
    "    return np.log(np.array(out) / np.sum(out, 0))\n",
    "\n",
    "\n",
    "# obtengo la potencia logartímica en un array\n",
    "# de la forma (bandas, canales) = (4x4)\n",
    "    \n",
    "#potencia_log = relative_log_power(evoked_pos.data)\n",
    "\n",
    "# toma un epoch en forma de ndarray [n_muestras] y\n",
    "# calcula una serie de estadísticas para el canal al que \n",
    "# pertenecen las muestras\n",
    "def BasicStats(data):\n",
    "    m = np.mean(data)\n",
    "    sd = np.std(data)\n",
    "    ku = sp.stats.kurtosis(data)\n",
    "    sk = sp.stats.skew(data)\n",
    "    p90 = np.percentile(data, 90)\n",
    "    p10 = np.percentile(data, 10)\n",
    "    return np.asarray([m, sd, ku, sk, p90, p10])\n",
    "\n",
    "\n",
    "def cumulative_log_power(data, window=256, fs=256, overlap=0., indexes=[4, 8, 15, 25, 30, 40]):\n",
    "    noverlap = int(window * overlap)\n",
    "    freqs, power = welch(data, fs=fs, nperseg=window, noverlap=noverlap)\n",
    "    power = power[np.array(indexes)]\n",
    "    out = np.cumsum((power), 0)\n",
    "    out = out / np.max(out)\n",
    "    out = out[:-1]\n",
    "    return out \n",
    "\n",
    "def spectral_edge_frequency(data, window=256, fs=256, overlap=0., edges=[0.5, 0.7, 0.8, 0.9, 0.95]):\n",
    "    noverlap = int(window * overlap)\n",
    "    freqs, power = welch(data, fs=fs, nperseg=window, noverlap=noverlap)\n",
    "    out = np.cumsum((power), 0)\n",
    "    out = out / np.max(out)\n",
    "    ret = []\n",
    "    if np.sum(np.isnan(out))>0:\n",
    "        ret = np.ones((len(edges), 16)) * np.nan\n",
    "    else:\n",
    "        for edge in edges:\n",
    "            tmp = []\n",
    "            tmp.append(freqs[np.where(out>edge)[0][0]])\n",
    "            ret.append(tmp)\n",
    "        ret = np.array(ret)\n",
    "    return ret"
   ]
  },
  {
   "cell_type": "code",
   "execution_count": 3,
   "metadata": {
    "ExecuteTime": {
     "end_time": "2017-12-22T22:26:40.853635Z",
     "start_time": "2017-12-22T22:26:40.838753Z"
    },
    "code_folding": [
     0
    ],
    "collapsed": true,
    "run_control": {
     "marked": true
    }
   },
   "outputs": [],
   "source": [
    "# para cada epoch construyo un array vacío\n",
    "# con dimensión (número de epochs, canales, características)\n",
    "n_canales = 4\n",
    "n_caracteristicas = 15\n",
    "\n",
    "def ObtenerCaracteristicas(_ep):\n",
    "    vector = np.zeros((n_canales, n_caracteristicas))\n",
    "\n",
    "    for j in range(n_canales):\n",
    "        # genera características para cada canal\n",
    "        espectro = relative_log_power(_ep[j])\n",
    "        estadisticas = BasicStats(_ep[j])\n",
    "        cum_power = cumulative_log_power(_ep[j])\n",
    "        misc = spectral_edge_frequency(_ep[j])\n",
    "        out = np.concatenate((espectro, estadisticas, cum_power))\n",
    "        # coloca las características en el vector de entrada\n",
    "        n_elementos = len(out)\n",
    "        mask = np.concatenate((np.ones(n_elementos), np.zeros(n_caracteristicas - n_elementos)))\n",
    "        np.place(vector[j], mask, out)\n",
    "    return vector"
   ]
  },
  {
   "cell_type": "code",
   "execution_count": 4,
   "metadata": {
    "ExecuteTime": {
     "end_time": "2017-12-22T22:26:41.526715Z",
     "start_time": "2017-12-22T22:26:41.014143Z"
    }
   },
   "outputs": [
    {
     "name": "stdout",
     "output_type": "stream",
     "text": [
      "looking for an EEG stream...\n",
      "Start aquiring data\n"
     ]
    }
   ],
   "source": [
    "print(\"looking for an EEG stream...\")\n",
    "streams = resolve_byprop('type', 'EEG', timeout=2)\n",
    "\n",
    "if len(streams) == 0:\n",
    "    raise(RuntimeError(\"Cant find EEG stream\"))\n",
    "print(\"Start aquiring data\")"
   ]
  },
  {
   "cell_type": "code",
   "execution_count": 5,
   "metadata": {
    "ExecuteTime": {
     "end_time": "2017-12-22T22:26:41.733032Z",
     "start_time": "2017-12-22T22:26:41.529256Z"
    },
    "collapsed": true
   },
   "outputs": [],
   "source": [
    "from sklearn.externals import joblib\n",
    "#clf = joblib.load('Cov+LR.pkl')\n",
    "#clf = joblib.load('regLDA.pkl')\n",
    "clf = joblib.load('Decision Tree.pkl')"
   ]
  },
  {
   "cell_type": "code",
   "execution_count": 6,
   "metadata": {
    "ExecuteTime": {
     "end_time": "2017-12-22T22:26:41.748464Z",
     "start_time": "2017-12-22T22:26:41.736156Z"
    },
    "collapsed": true
   },
   "outputs": [],
   "source": [
    "stream = streams[0]\n",
    "window = 3 # ventana para mostrar datos\n",
    "\n",
    "inlet = StreamInlet(stream, max_chunklen=12)\n",
    "info = inlet.info()\n",
    "description = info.desc()\n",
    "\n",
    "sfreq = info.nominal_srate()\n",
    "n_samples = int(sfreq * window)  # numero de muestras en cada ventana\n",
    "n_chan = info.channel_count()  # numero de canales\n",
    "\n",
    "ch = description.child('channels').first_child()\n",
    "ch_names = [ch.child_value('label')]\n",
    "\n",
    "for i in range(n_chan):\n",
    "    ch = ch.next_sibling()\n",
    "    ch_names.append(ch.child_value('label'))"
   ]
  },
  {
   "cell_type": "code",
   "execution_count": 7,
   "metadata": {
    "ExecuteTime": {
     "end_time": "2017-12-22T22:26:41.893176Z",
     "start_time": "2017-12-22T22:26:41.847629Z"
    },
    "collapsed": true
   },
   "outputs": [],
   "source": [
    "data = np.zeros((n_samples, n_chan))\n",
    "times = np.arange(-window, 0, 1./sfreq)\n",
    "impedances = np.std(data, axis=0)\n",
    "lines = []\n",
    "\n",
    "bf = firwin(32, np.array([1, 40])/(sfreq/2.), width=0.05,\n",
    "                         pass_zero=False)\n",
    "af = [1.0]\n",
    "zi = lfilter_zi(bf,af)\n",
    "\n",
    "filt_state = np.tile(zi, (n_chan, 1)).transpose()\n",
    "data_f = np.zeros((n_samples, n_chan))\n"
   ]
  },
  {
   "cell_type": "code",
   "execution_count": 8,
   "metadata": {
    "ExecuteTime": {
     "end_time": "2017-12-22T22:26:42.293034Z",
     "start_time": "2017-12-22T22:26:42.289261Z"
    },
    "collapsed": true
   },
   "outputs": [],
   "source": [
    "stream_ids=['3m6xje5b5u','8w9ehewp4m']"
   ]
  },
  {
   "cell_type": "code",
   "execution_count": 9,
   "metadata": {
    "ExecuteTime": {
     "end_time": "2017-12-22T22:26:42.897488Z",
     "start_time": "2017-12-22T22:26:42.893869Z"
    },
    "collapsed": true,
    "run_control": {
     "marked": true
    }
   },
   "outputs": [],
   "source": [
    "#plotly.tools.set_credentials_file(stream_ids=['3m6xje5b5u','8w9ehewp4m'])"
   ]
  },
  {
   "cell_type": "code",
   "execution_count": 10,
   "metadata": {
    "ExecuteTime": {
     "end_time": "2017-12-22T22:26:43.340858Z",
     "start_time": "2017-12-22T22:26:43.335030Z"
    },
    "collapsed": true
   },
   "outputs": [],
   "source": [
    "#plotly.tools.get_credentials_file()"
   ]
  },
  {
   "cell_type": "code",
   "execution_count": 11,
   "metadata": {
    "ExecuteTime": {
     "end_time": "2017-12-22T22:26:43.957353Z",
     "start_time": "2017-12-22T22:26:43.934668Z"
    },
    "collapsed": true
   },
   "outputs": [],
   "source": [
    "# Get stream id from stream id list \n",
    "stream_id_line = stream_ids[0]\n",
    "\n",
    "# Make instance of stream id object \n",
    "stream_1 = go.Stream(\n",
    "    token=stream_id_line,  # link stream id to 'token' key\n",
    "    maxpoints=80      # keep a max of 80 pts on screen\n",
    ")\n",
    "\n",
    "# Initialize trace of streaming plot by embedding the unique stream_id\n",
    "trace1 = go.Scatter(\n",
    "    x=[],\n",
    "    y=[],\n",
    "    mode='lines+markers',\n",
    "    name = ch_names[1],\n",
    "    stream=stream_1         # (!) embed stream id, 1 per trace\n",
    ")\n",
    "\n",
    "data = go.Data([trace1])\n",
    "\n",
    "\n",
    "# Get stream id from stream id list \n",
    "stream_id_bar = stream_ids[1]\n",
    "\n",
    "# Make instance of stream id object \n",
    "stream_2 = go.Stream(\n",
    "    token=stream_id_bar,  # link stream id to 'token' key\n",
    "    maxpoints=80      # keep a max of 80 pts on screen\n",
    ")\n",
    "\n",
    "# Initialize trace of streaming plot by embedding the unique stream_id\n",
    "trace2 = go.Bar(\n",
    "    y=np.random.rand(3),\n",
    "    x=[\"Neu\",\"Pos\",\"Neg\"],\n",
    "    stream=stream_2         # (!) embed stream id, 1 per trace\n",
    ")\n",
    "data2 = go.Data([trace2])"
   ]
  },
  {
   "cell_type": "code",
   "execution_count": 12,
   "metadata": {
    "ExecuteTime": {
     "end_time": "2017-12-22T22:27:03.288617Z",
     "start_time": "2017-12-22T22:26:46.520088Z"
    },
    "scrolled": true
   },
   "outputs": [
    {
     "name": "stdout",
     "output_type": "stream",
     "text": [
      "High five! You successfully sent some data to your account on plotly. View your plot in your browser at https://plot.ly/~matiya/0 or inside your plot.ly account where it is named 'python-streaming'\n"
     ]
    },
    {
     "data": {
      "text/html": [
       "<iframe id=\"igraph\" scrolling=\"no\" style=\"border:none;\" seamless=\"seamless\" src=\"https://plot.ly/~matiya/3.embed\" height=\"525px\" width=\"100%\"></iframe>"
      ],
      "text/plain": [
       "<plotly.tools.PlotlyDisplay object>"
      ]
     },
     "execution_count": 12,
     "metadata": {},
     "output_type": "execute_result"
    }
   ],
   "source": [
    "# Add title to layout object\n",
    "layout = go.Layout(title='Registro de emociones',\n",
    "                   xaxis=dict(\n",
    "                       title='Tiempo',\n",
    "                       titlefont=dict(\n",
    "                           family='Arial, sans-serif',\n",
    "                           size=18,\n",
    "                           color='lightgrey'\n",
    "                       )\n",
    "                   ),\n",
    "                   yaxis=dict(\n",
    "                       range=[-5, 40],\n",
    "                       title='Emoción',\n",
    "                       titlefont=dict(\n",
    "                           family='Arial, sans-serif',\n",
    "                           size=18,\n",
    "                           color='lightgrey'\n",
    "                       ),\n",
    "                       tickvals=[0, 11, 22, 33],\n",
    "                       ticktext=['', 'Neutro', 'Positivo', 'Negativo']\n",
    "                   )\n",
    "                   )\n",
    "\n",
    "# Make a figure object\n",
    "fig = go.Figure(data=data, layout=layout)\n",
    "\n",
    "# Send fig to Plotly, initialize streaming plot, open new tab\n",
    "py.iplot(fig, filename='python-streaming')\n",
    "\n",
    "# Add title to layout object\n",
    "layout2 = go.Layout(title='Clasificación',\n",
    "                    xaxis=dict(\n",
    "                        title='Tiempo',\n",
    "                        titlefont=dict(\n",
    "                            family='Arial, sans-serif',\n",
    "                            size=18,\n",
    "                            color='lightgrey'\n",
    "                        )\n",
    "                    ),\n",
    "\n",
    "                    yaxis=dict(\n",
    "                        range=[-0.1, 1.1],\n",
    "                        title='Probabilidad',\n",
    "                        titlefont=dict(\n",
    "                            family='Arial, sans-serif',\n",
    "                            size=18,\n",
    "                            color='lightgrey'\n",
    "                        )\n",
    "                    )\n",
    "                    )\n",
    "\n",
    "\n",
    "# Make a figure object\n",
    "fig2 = go.Figure(data=data2, layout=layout2)\n",
    "\n",
    "# Send fig to Plotly, initialize streaming plot, open new tab\n",
    "py.iplot(fig2, filename='Barplot')"
   ]
  },
  {
   "cell_type": "code",
   "execution_count": 14,
   "metadata": {
    "ExecuteTime": {
     "end_time": "2017-12-22T22:27:17.886854Z",
     "start_time": "2017-12-22T22:27:16.634995Z"
    },
    "collapsed": true
   },
   "outputs": [],
   "source": [
    "# We will provide the stream link object the same token that's associated with the trace we wish to stream to\n",
    "s_line = py.Stream(stream_id_line)\n",
    "\n",
    "# We then open a connection\n",
    "s_line.open()\n",
    "\n",
    "# We will provide the stream link object the same token that's associated with the trace we wish to stream to\n",
    "s_bar = py.Stream(stream_id_bar)\n",
    "\n",
    "# We then open a connection\n",
    "s_bar.open()"
   ]
  },
  {
   "cell_type": "code",
   "execution_count": 15,
   "metadata": {
    "ExecuteTime": {
     "end_time": "2017-12-22T22:27:18.233280Z",
     "start_time": "2017-12-22T22:27:18.228597Z"
    },
    "collapsed": true
   },
   "outputs": [],
   "source": [
    "if(s_bar.connected != True or s_line.connected != True):\n",
    "    raise RuntimeError('No se pudo conectar a plotly')"
   ]
  },
  {
   "cell_type": "code",
   "execution_count": null,
   "metadata": {
    "ExecuteTime": {
     "start_time": "2017-12-22T22:27:20.594Z"
    }
   },
   "outputs": [
    {
     "name": "stdout",
     "output_type": "stream",
     "text": [
      "('Label: ', 11.0)\n",
      "('Label: ', 11.0)\n",
      "('Label: ', 11.0)\n",
      "('Label: ', 11.0)\n",
      "('Label: ', 11.0)\n",
      "('Label: ', 11.0)\n",
      "('Label: ', 11.0)\n",
      "('Label: ', 16.5)\n",
      "('Label: ', 11.0)\n",
      "('Label: ', 16.5)\n",
      "('Label: ', 11.0)\n",
      "('Label: ', 11.0)\n",
      "('Label: ', 11.0)\n",
      "('Label: ', 16.5)\n",
      "('Label: ', 11.0)\n",
      "('Label: ', 11.0)\n",
      "('Label: ', 11.0)\n",
      "('Label: ', 11.0)\n",
      "('Label: ', 11.0)\n",
      "('Label: ', 11.0)\n",
      "('Label: ', 11.0)\n",
      "('Label: ', 11.0)\n",
      "('Label: ', 11.0)\n",
      "('Label: ', 11.0)\n",
      "('Label: ', 11.0)\n",
      "('Label: ', 11.0)\n",
      "('Label: ', 11.0)\n",
      "('Label: ', 11.0)\n",
      "('Label: ', 11.0)\n",
      "('Label: ', 11.0)\n",
      "('Label: ', 11.0)\n",
      "('Label: ', 11.0)\n",
      "('Label: ', 16.5)\n",
      "('Label: ', 11.0)\n",
      "('Label: ', 11.0)\n",
      "('Label: ', 11.0)\n",
      "('Label: ', 22.0)\n"
     ]
    },
    {
     "name": "stderr",
     "output_type": "stream",
     "text": [
      "/home/default/.conda/envs/py27/lib/python2.7/site-packages/ipykernel_launcher.py:22: RuntimeWarning:\n",
      "\n",
      "invalid value encountered in divide\n",
      "\n",
      "/home/default/.conda/envs/py27/lib/python2.7/site-packages/ipykernel_launcher.py:48: RuntimeWarning:\n",
      "\n",
      "invalid value encountered in divide\n",
      "\n",
      "/home/default/.conda/envs/py27/lib/python2.7/site-packages/ipykernel_launcher.py:56: RuntimeWarning:\n",
      "\n",
      "invalid value encountered in divide\n",
      "\n",
      "/home/default/.conda/envs/py27/lib/python2.7/site-packages/numpy/core/fromnumeric.py:2909: RuntimeWarning:\n",
      "\n",
      "Mean of empty slice.\n",
      "\n",
      "/home/default/.conda/envs/py27/lib/python2.7/site-packages/numpy/core/_methods.py:80: RuntimeWarning:\n",
      "\n",
      "invalid value encountered in double_scalars\n",
      "\n"
     ]
    },
    {
     "name": "stdout",
     "output_type": "stream",
     "text": [
      "Ooops\n",
      "('Label: ', nan)\n",
      "Ooops\n",
      "('Label: ', nan)\n",
      "Ooops\n",
      "('Label: ', nan)\n",
      "Ooops\n",
      "('Label: ', nan)\n",
      "Ooops\n",
      "('Label: ', nan)\n",
      "Ooops\n",
      "('Label: ', nan)\n",
      "Ooops\n",
      "('Label: ', nan)\n",
      "Ooops\n",
      "('Label: ', nan)\n"
     ]
    }
   ],
   "source": [
    "# lista de las etiquetas predichas\n",
    "labels = []\n",
    "#  \n",
    "t_datos = 5*2 \n",
    "N = 0\n",
    "lista_bar = []\n",
    "y = []\n",
    "data =  np.zeros((n_samples, n_chan-1))\n",
    "\n",
    "\n",
    "while True: \n",
    "    # leer datos BCI\n",
    "    samples, timestamps = inlet.pull_chunk(timeout=1.0,max_samples=256*3)\n",
    "    samples = np.array(samples)[:,:-1]\n",
    "    x_bar = [\"Neu\", \"Pos\", \"Neg\"]\n",
    "    x_line = datetime.datetime.now().strftime('%H:%M:%S')\n",
    "\n",
    "    # formatear datos\n",
    "    data = np.vstack([data, samples])\n",
    "    data = data[-n_samples:] # tomo los ultimos n_samples\n",
    "    \n",
    "    #y = samples[0][1]\n",
    "    swap_data = np.swapaxes(data, 0, 1)\n",
    "    \n",
    "    # obtener caracteristicas\n",
    "    featured = ObtenerCaracteristicas(swap_data)\n",
    "    featured = np.expand_dims(featured, axis = 0)\n",
    "    # predecir en base a las muestras\n",
    "    try:\n",
    "        pred = clf.predict(featured)\n",
    "        #print(pred)\n",
    "        labels.append(pred[0])\n",
    "    except:\n",
    "        print(\"Ooops\")\n",
    "        \n",
    "    # hacer un promedio de los ultimos\n",
    "    # t_datos (moving average)\n",
    "    #print(len(labels))\n",
    "    if((len(labels) % t_datos) == 0):\n",
    "        y_line = np.median(np.array(labels))\n",
    "        print(\"Label: \", np.median(np.array(labels)))\n",
    "        unique, counts = np.unique(labels, return_counts=True)\n",
    "        #print unique\n",
    "        #print counts\n",
    "        tot = float(sum(counts))\n",
    "        y_bar = counts/tot\n",
    "        # completar valores faltantes\n",
    "        if(np.isin([11], unique)[0] == False):\n",
    "            y_bar = np.insert(y_bar, [0], [0.0])\n",
    "        if(np.isin([22], unique)[0] == False):\n",
    "            y_bar = np.insert(y_bar, [1], [0.0])\n",
    "        if(np.isin([33], unique)[0] == False):\n",
    "            y_bar = np.insert(y_bar, [2], [0.0])\n",
    "        if(len(y_bar) == 3):\n",
    "            try: \n",
    "                s_bar.write(dict(x=x_bar, y=y_bar))\n",
    "                s_line.write(dict(x=x_line, y=y_line))\n",
    "            except:\n",
    "                print(\"Problema del servidor\")\n",
    "            labels = []\n",
    "    try:\n",
    "        pass\n",
    "    except KeyboardInterrupt:\n",
    "        break\n",
    "\n",
    "s_bar.close()\n",
    "s_line.close()"
   ]
  },
  {
   "cell_type": "markdown",
   "metadata": {},
   "source": [
    "# Sonidos"
   ]
  },
  {
   "cell_type": "code",
   "execution_count": 32,
   "metadata": {
    "ExecuteTime": {
     "end_time": "2017-12-22T19:43:34.921182Z",
     "start_time": "2017-12-22T19:43:34.910791Z"
    },
    "collapsed": true,
    "run_control": {
     "marked": true
    },
    "scrolled": false
   },
   "outputs": [],
   "source": [
    "from pygame import mixer\n",
    "mixer.init() \n",
    "pos_sound = mixer.Sound('./sound/pos.mp3')\n",
    "neg_sound = mixer.music.load('./sound/neg.mp3')\n",
    "neu_sound = mixer.music.load('./sound/neu.mp3')"
   ]
  },
  {
   "cell_type": "code",
   "execution_count": 35,
   "metadata": {
    "ExecuteTime": {
     "end_time": "2017-12-22T19:46:25.809987Z",
     "start_time": "2017-12-22T19:46:25.804891Z"
    }
   },
   "outputs": [
    {
     "data": {
      "text/plain": [
       "<Channel at 0x7ff6fa081fa8>"
      ]
     },
     "execution_count": 35,
     "metadata": {},
     "output_type": "execute_result"
    }
   ],
   "source": [
    "pos_sound.play()"
   ]
  },
  {
   "cell_type": "code",
   "execution_count": null,
   "metadata": {
    "collapsed": true
   },
   "outputs": [],
   "source": []
  }
 ],
 "metadata": {
  "kernelspec": {
   "display_name": "Python 2",
   "language": "python",
   "name": "python2"
  },
  "language_info": {
   "codemirror_mode": {
    "name": "ipython",
    "version": 2
   },
   "file_extension": ".py",
   "mimetype": "text/x-python",
   "name": "python",
   "nbconvert_exporter": "python",
   "pygments_lexer": "ipython2",
   "version": "2.7.13"
  },
  "toc": {
   "nav_menu": {},
   "number_sections": true,
   "sideBar": true,
   "skip_h1_title": false,
   "toc_cell": false,
   "toc_position": {},
   "toc_section_display": "block",
   "toc_window_display": false
  }
 },
 "nbformat": 4,
 "nbformat_minor": 2
}
